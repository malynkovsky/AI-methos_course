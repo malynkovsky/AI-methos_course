{
  "nbformat": 4,
  "nbformat_minor": 0,
  "metadata": {
    "kernelspec": {
      "display_name": "Python 3",
      "language": "python",
      "name": "python3"
    },
    "language_info": {
      "codemirror_mode": {
        "name": "ipython",
        "version": 3
      },
      "file_extension": ".py",
      "mimetype": "text/x-python",
      "name": "python",
      "nbconvert_exporter": "python",
      "pygments_lexer": "ipython3",
      "version": "3.7.3"
    },
    "colab": {
      "name": "RussianCDQA.ipynb",
      "provenance": [],
      "machine_shape": "hm"
    }
  },
  "cells": [
    {
      "cell_type": "code",
      "metadata": {
        "id": "swtaEs598qb6",
        "colab_type": "code",
        "colab": {
          "base_uri": "https://localhost:8080/",
          "height": 1000
        },
        "outputId": "4d8d720d-d904-4657-f34e-abfcc3287122"
      },
      "source": [
        "pip install cdqa"
      ],
      "execution_count": 1,
      "outputs": [
        {
          "output_type": "stream",
          "text": [
            "Collecting cdqa\n",
            "\u001b[?25l  Downloading https://files.pythonhosted.org/packages/39/f5/af831b7ee653aa6bace99e39ec6b2754b1adb10bb60a1296f5e16f1f24ee/cdqa-1.3.9.tar.gz (45kB)\n",
            "\u001b[K     |████████████████████████████████| 51kB 1.6MB/s \n",
            "\u001b[?25hCollecting Flask==1.1.1\n",
            "\u001b[?25l  Downloading https://files.pythonhosted.org/packages/9b/93/628509b8d5dc749656a9641f4caf13540e2cdec85276964ff8f43bbb1d3b/Flask-1.1.1-py2.py3-none-any.whl (94kB)\n",
            "\u001b[K     |████████████████████████████████| 102kB 4.8MB/s \n",
            "\u001b[?25hCollecting flask_cors==3.0.8\n",
            "  Downloading https://files.pythonhosted.org/packages/78/38/e68b11daa5d613e3a91e4bf3da76c94ac9ee0d9cd515af9c1ab80d36f709/Flask_Cors-3.0.8-py2.py3-none-any.whl\n",
            "Collecting joblib==0.13.2\n",
            "\u001b[?25l  Downloading https://files.pythonhosted.org/packages/cd/c1/50a758e8247561e58cb87305b1e90b171b8c767b15b12a1734001f41d356/joblib-0.13.2-py2.py3-none-any.whl (278kB)\n",
            "\u001b[K     |████████████████████████████████| 286kB 40.5MB/s \n",
            "\u001b[?25hCollecting pandas==0.25.0\n",
            "\u001b[?25l  Downloading https://files.pythonhosted.org/packages/1d/9a/7eb9952f4b4d73fbd75ad1d5d6112f407e695957444cb695cbb3cdab918a/pandas-0.25.0-cp36-cp36m-manylinux1_x86_64.whl (10.5MB)\n",
            "\u001b[K     |████████████████████████████████| 10.5MB 38.7MB/s \n",
            "\u001b[?25hRequirement already satisfied: prettytable==0.7.2 in /usr/local/lib/python3.6/dist-packages (from cdqa) (0.7.2)\n",
            "Collecting transformers==2.1.1\n",
            "\u001b[?25l  Downloading https://files.pythonhosted.org/packages/fd/f9/51824e40f0a23a49eab4fcaa45c1c797cbf9761adedd0b558dab7c958b34/transformers-2.1.1-py3-none-any.whl (311kB)\n",
            "\u001b[K     |████████████████████████████████| 317kB 54.0MB/s \n",
            "\u001b[?25hCollecting scikit_learn==0.21.2\n",
            "\u001b[?25l  Downloading https://files.pythonhosted.org/packages/85/04/49633f490f726da6e454fddc8e938bbb5bfed2001681118d3814c219b723/scikit_learn-0.21.2-cp36-cp36m-manylinux1_x86_64.whl (6.7MB)\n",
            "\u001b[K     |████████████████████████████████| 6.7MB 42.5MB/s \n",
            "\u001b[?25hCollecting tika==1.19\n",
            "  Downloading https://files.pythonhosted.org/packages/10/75/b566e446ffcf292f10c8d84c15a3d91615fe3d7ca8072a17c949d4e84b66/tika-1.19.tar.gz\n",
            "Collecting torch==1.2.0\n",
            "\u001b[?25l  Downloading https://files.pythonhosted.org/packages/30/57/d5cceb0799c06733eefce80c395459f28970ebb9e896846ce96ab579a3f1/torch-1.2.0-cp36-cp36m-manylinux1_x86_64.whl (748.8MB)\n",
            "\u001b[K     |████████████████████████████████| 748.9MB 19kB/s \n",
            "\u001b[?25hCollecting markdown==3.1.1\n",
            "\u001b[?25l  Downloading https://files.pythonhosted.org/packages/c0/4e/fd492e91abdc2d2fcb70ef453064d980688762079397f779758e055f6575/Markdown-3.1.1-py2.py3-none-any.whl (87kB)\n",
            "\u001b[K     |████████████████████████████████| 92kB 7.2MB/s \n",
            "\u001b[?25hCollecting tqdm==4.32.2\n",
            "\u001b[?25l  Downloading https://files.pythonhosted.org/packages/9f/3d/7a6b68b631d2ab54975f3a4863f3c4e9b26445353264ef01f465dc9b0208/tqdm-4.32.2-py2.py3-none-any.whl (50kB)\n",
            "\u001b[K     |████████████████████████████████| 51kB 4.7MB/s \n",
            "\u001b[?25hCollecting wget==3.2\n",
            "  Downloading https://files.pythonhosted.org/packages/47/6a/62e288da7bcda82b935ff0c6cfe542970f04e29c756b0e147251b2fb251f/wget-3.2.zip\n",
            "Requirement already satisfied: Jinja2>=2.10.1 in /usr/local/lib/python3.6/dist-packages (from Flask==1.1.1->cdqa) (2.11.2)\n",
            "Requirement already satisfied: Werkzeug>=0.15 in /usr/local/lib/python3.6/dist-packages (from Flask==1.1.1->cdqa) (1.0.1)\n",
            "Requirement already satisfied: click>=5.1 in /usr/local/lib/python3.6/dist-packages (from Flask==1.1.1->cdqa) (7.1.2)\n",
            "Requirement already satisfied: itsdangerous>=0.24 in /usr/local/lib/python3.6/dist-packages (from Flask==1.1.1->cdqa) (1.1.0)\n",
            "Requirement already satisfied: Six in /usr/local/lib/python3.6/dist-packages (from flask_cors==3.0.8->cdqa) (1.12.0)\n",
            "Requirement already satisfied: python-dateutil>=2.6.1 in /usr/local/lib/python3.6/dist-packages (from pandas==0.25.0->cdqa) (2.8.1)\n",
            "Requirement already satisfied: numpy>=1.13.3 in /usr/local/lib/python3.6/dist-packages (from pandas==0.25.0->cdqa) (1.18.3)\n",
            "Requirement already satisfied: pytz>=2017.2 in /usr/local/lib/python3.6/dist-packages (from pandas==0.25.0->cdqa) (2018.9)\n",
            "Requirement already satisfied: requests in /usr/local/lib/python3.6/dist-packages (from transformers==2.1.1->cdqa) (2.23.0)\n",
            "Collecting sentencepiece\n",
            "\u001b[?25l  Downloading https://files.pythonhosted.org/packages/98/2c/8df20f3ac6c22ac224fff307ebc102818206c53fc454ecd37d8ac2060df5/sentencepiece-0.1.86-cp36-cp36m-manylinux1_x86_64.whl (1.0MB)\n",
            "\u001b[K     |████████████████████████████████| 1.0MB 29.8MB/s \n",
            "\u001b[?25hRequirement already satisfied: boto3 in /usr/local/lib/python3.6/dist-packages (from transformers==2.1.1->cdqa) (1.12.47)\n",
            "Requirement already satisfied: regex in /usr/local/lib/python3.6/dist-packages (from transformers==2.1.1->cdqa) (2019.12.20)\n",
            "Collecting sacremoses\n",
            "\u001b[?25l  Downloading https://files.pythonhosted.org/packages/99/50/93509f906a40bffd7d175f97fd75ea328ad9bd91f48f59c4bd084c94a25e/sacremoses-0.0.41.tar.gz (883kB)\n",
            "\u001b[K     |████████████████████████████████| 890kB 46.3MB/s \n",
            "\u001b[?25hRequirement already satisfied: scipy>=0.17.0 in /usr/local/lib/python3.6/dist-packages (from scikit_learn==0.21.2->cdqa) (1.4.1)\n",
            "Requirement already satisfied: setuptools in /usr/local/lib/python3.6/dist-packages (from tika==1.19->cdqa) (46.1.3)\n",
            "Requirement already satisfied: MarkupSafe>=0.23 in /usr/local/lib/python3.6/dist-packages (from Jinja2>=2.10.1->Flask==1.1.1->cdqa) (1.1.1)\n",
            "Requirement already satisfied: urllib3!=1.25.0,!=1.25.1,<1.26,>=1.21.1 in /usr/local/lib/python3.6/dist-packages (from requests->transformers==2.1.1->cdqa) (1.24.3)\n",
            "Requirement already satisfied: certifi>=2017.4.17 in /usr/local/lib/python3.6/dist-packages (from requests->transformers==2.1.1->cdqa) (2020.4.5.1)\n",
            "Requirement already satisfied: chardet<4,>=3.0.2 in /usr/local/lib/python3.6/dist-packages (from requests->transformers==2.1.1->cdqa) (3.0.4)\n",
            "Requirement already satisfied: idna<3,>=2.5 in /usr/local/lib/python3.6/dist-packages (from requests->transformers==2.1.1->cdqa) (2.9)\n",
            "Requirement already satisfied: s3transfer<0.4.0,>=0.3.0 in /usr/local/lib/python3.6/dist-packages (from boto3->transformers==2.1.1->cdqa) (0.3.3)\n",
            "Requirement already satisfied: jmespath<1.0.0,>=0.7.1 in /usr/local/lib/python3.6/dist-packages (from boto3->transformers==2.1.1->cdqa) (0.9.5)\n",
            "Requirement already satisfied: botocore<1.16.0,>=1.15.47 in /usr/local/lib/python3.6/dist-packages (from boto3->transformers==2.1.1->cdqa) (1.15.47)\n",
            "Requirement already satisfied: docutils<0.16,>=0.10 in /usr/local/lib/python3.6/dist-packages (from botocore<1.16.0,>=1.15.47->boto3->transformers==2.1.1->cdqa) (0.15.2)\n",
            "Building wheels for collected packages: cdqa, tika, wget, sacremoses\n",
            "  Building wheel for cdqa (setup.py) ... \u001b[?25l\u001b[?25hdone\n",
            "  Created wheel for cdqa: filename=cdqa-1.3.9-cp36-none-any.whl size=47640 sha256=b880630bcdd2a6be45c1d51fdd99c811fdbe5cd4e345af807c646ca8e4668ed3\n",
            "  Stored in directory: /root/.cache/pip/wheels/8b/9a/68/d3f7651ea29c30d1bebc9e946bf5a8cf922e1c86fb6b8a33d9\n",
            "  Building wheel for tika (setup.py) ... \u001b[?25l\u001b[?25hdone\n",
            "  Created wheel for tika: filename=tika-1.19-cp36-none-any.whl size=29222 sha256=2c4818ee2a0876905d9456515eac597a3f212dce89fade3ed5ea319f36fda568\n",
            "  Stored in directory: /root/.cache/pip/wheels/b4/db/8a/3a3f0c0725448eaa92703e3dda71e29dc13a119ff6c1036848\n",
            "  Building wheel for wget (setup.py) ... \u001b[?25l\u001b[?25hdone\n",
            "  Created wheel for wget: filename=wget-3.2-cp36-none-any.whl size=9682 sha256=060ea1311fe4db00a7d8f3b37fc4c5da3c89f1cc455392051f48e37606554810\n",
            "  Stored in directory: /root/.cache/pip/wheels/40/15/30/7d8f7cea2902b4db79e3fea550d7d7b85ecb27ef992b618f3f\n",
            "  Building wheel for sacremoses (setup.py) ... \u001b[?25l\u001b[?25hdone\n",
            "  Created wheel for sacremoses: filename=sacremoses-0.0.41-cp36-none-any.whl size=893334 sha256=08cb114434b27033088cfe4705c5731e31ff53eb176a1865cc68c7381f486f49\n",
            "  Stored in directory: /root/.cache/pip/wheels/22/5a/d4/b020a81249de7dc63758a34222feaa668dbe8ebfe9170cc9b1\n",
            "Successfully built cdqa tika wget sacremoses\n",
            "\u001b[31mERROR: torchvision 0.6.0+cu101 has requirement torch==1.5.0, but you'll have torch 1.2.0 which is incompatible.\u001b[0m\n",
            "\u001b[31mERROR: spacy 2.2.4 has requirement tqdm<5.0.0,>=4.38.0, but you'll have tqdm 4.32.2 which is incompatible.\u001b[0m\n",
            "\u001b[31mERROR: google-colab 1.0.0 has requirement pandas~=1.0.0; python_version >= \"3.0\", but you'll have pandas 0.25.0 which is incompatible.\u001b[0m\n",
            "Installing collected packages: Flask, flask-cors, joblib, pandas, tqdm, sentencepiece, sacremoses, transformers, scikit-learn, tika, torch, markdown, wget, cdqa\n",
            "  Found existing installation: Flask 1.1.2\n",
            "    Uninstalling Flask-1.1.2:\n",
            "      Successfully uninstalled Flask-1.1.2\n",
            "  Found existing installation: joblib 0.14.1\n",
            "    Uninstalling joblib-0.14.1:\n",
            "      Successfully uninstalled joblib-0.14.1\n",
            "  Found existing installation: pandas 1.0.3\n",
            "    Uninstalling pandas-1.0.3:\n",
            "      Successfully uninstalled pandas-1.0.3\n",
            "  Found existing installation: tqdm 4.38.0\n",
            "    Uninstalling tqdm-4.38.0:\n",
            "      Successfully uninstalled tqdm-4.38.0\n",
            "  Found existing installation: scikit-learn 0.22.2.post1\n",
            "    Uninstalling scikit-learn-0.22.2.post1:\n",
            "      Successfully uninstalled scikit-learn-0.22.2.post1\n",
            "  Found existing installation: torch 1.5.0+cu101\n",
            "    Uninstalling torch-1.5.0+cu101:\n",
            "      Successfully uninstalled torch-1.5.0+cu101\n",
            "  Found existing installation: Markdown 3.2.1\n",
            "    Uninstalling Markdown-3.2.1:\n",
            "      Successfully uninstalled Markdown-3.2.1\n",
            "Successfully installed Flask-1.1.1 cdqa-1.3.9 flask-cors-3.0.8 joblib-0.13.2 markdown-3.1.1 pandas-0.25.0 sacremoses-0.0.41 scikit-learn-0.21.2 sentencepiece-0.1.86 tika-1.19 torch-1.2.0 tqdm-4.32.2 transformers-2.1.1 wget-3.2\n"
          ],
          "name": "stdout"
        },
        {
          "output_type": "display_data",
          "data": {
            "application/vnd.colab-display-data+json": {
              "pip_warning": {
                "packages": [
                  "pandas",
                  "tqdm"
                ]
              }
            }
          },
          "metadata": {
            "tags": []
          }
        }
      ]
    },
    {
      "cell_type": "code",
      "metadata": {
        "scrolled": true,
        "id": "cZW_SR2L8TCG",
        "colab_type": "code",
        "colab": {
          "base_uri": "https://localhost:8080/",
          "height": 71
        },
        "outputId": "c465d77d-3037-490f-f7d8-cc291e6028af"
      },
      "source": [
        "import pandas as pd\n",
        "from ast import literal_eval\n",
        "\n",
        "from cdqa.utils.filters import filter_paragraphs\n",
        "from cdqa.utils.download import download_model, download_bnpp_data\n",
        "from cdqa.pipeline.cdqa_sklearn import QAPipeline\n"
      ],
      "execution_count": 1,
      "outputs": [
        {
          "output_type": "stream",
          "text": [
            "/usr/local/lib/python3.6/dist-packages/tqdm/autonotebook/__init__.py:18: TqdmExperimentalWarning: Using `tqdm.autonotebook.tqdm` in notebook mode. Use `tqdm.tqdm` instead to force console mode (e.g. in jupyter console)\n",
            "  \" (e.g. in jupyter console)\", TqdmExperimentalWarning)\n"
          ],
          "name": "stderr"
        }
      ]
    },
    {
      "cell_type": "code",
      "metadata": {
        "id": "4u4BTe2S8TCQ",
        "colab_type": "code",
        "colab": {}
      },
      "source": [
        "from nltk import sent_tokenize, word_tokenize"
      ],
      "execution_count": 0,
      "outputs": []
    },
    {
      "cell_type": "code",
      "metadata": {
        "id": "oGyoW5w48TCX",
        "colab_type": "code",
        "colab": {}
      },
      "source": [
        "basedir = '/content/test'"
      ],
      "execution_count": 0,
      "outputs": []
    },
    {
      "cell_type": "code",
      "metadata": {
        "id": "YwbSye5I8TCd",
        "colab_type": "code",
        "colab": {}
      },
      "source": [
        "import os"
      ],
      "execution_count": 0,
      "outputs": []
    },
    {
      "cell_type": "code",
      "metadata": {
        "id": "oy16-bLr-H53",
        "colab_type": "code",
        "colab": {
          "base_uri": "https://localhost:8080/",
          "height": 68
        },
        "outputId": "83a34122-a8cb-4fac-d45c-2aad1f1c15d7"
      },
      "source": [
        "import nltk\n",
        "nltk.download('punkt')"
      ],
      "execution_count": 5,
      "outputs": [
        {
          "output_type": "stream",
          "text": [
            "[nltk_data] Downloading package punkt to /root/nltk_data...\n",
            "[nltk_data]   Unzipping tokenizers/punkt.zip.\n"
          ],
          "name": "stdout"
        },
        {
          "output_type": "execute_result",
          "data": {
            "text/plain": [
              "True"
            ]
          },
          "metadata": {
            "tags": []
          },
          "execution_count": 5
        }
      ]
    },
    {
      "cell_type": "code",
      "metadata": {
        "id": "C9-VeL7j8TCn",
        "colab_type": "code",
        "colab": {}
      },
      "source": [
        "files=pd.DataFrame()\n",
        "files['title'] = os.listdir(basedir)\n",
        "files['paths']=' '\n",
        "files['paths'] = [os.path.join(basedir, name) for name in files['title']]\n",
        "files['paragraphs']=' '\n",
        "files['paragraphs']=[open((i), 'r', encoding=\"utf8\", errors='ignore').read().strip() for i in files['paths'] ]"
      ],
      "execution_count": 0,
      "outputs": []
    },
    {
      "cell_type": "code",
      "metadata": {
        "id": "lXvUO68V8TCs",
        "colab_type": "code",
        "colab": {
          "base_uri": "https://localhost:8080/",
          "height": 173
        },
        "outputId": "e8d2747b-0958-4227-825d-04303ba68419"
      },
      "source": [
        "files.head()"
      ],
      "execution_count": 7,
      "outputs": [
        {
          "output_type": "execute_result",
          "data": {
            "text/html": [
              "<div>\n",
              "<style scoped>\n",
              "    .dataframe tbody tr th:only-of-type {\n",
              "        vertical-align: middle;\n",
              "    }\n",
              "\n",
              "    .dataframe tbody tr th {\n",
              "        vertical-align: top;\n",
              "    }\n",
              "\n",
              "    .dataframe thead th {\n",
              "        text-align: right;\n",
              "    }\n",
              "</style>\n",
              "<table border=\"1\" class=\"dataframe\">\n",
              "  <thead>\n",
              "    <tr style=\"text-align: right;\">\n",
              "      <th></th>\n",
              "      <th>title</th>\n",
              "      <th>paths</th>\n",
              "      <th>paragraphs</th>\n",
              "    </tr>\n",
              "  </thead>\n",
              "  <tbody>\n",
              "    <tr>\n",
              "      <th>0</th>\n",
              "      <td>Nineteen_data.txt</td>\n",
              "      <td>/content/test/Nineteen_data.txt</td>\n",
              "      <td>hh{{Государственный деятель\\n |имя            ...</td>\n",
              "    </tr>\n",
              "    <tr>\n",
              "      <th>1</th>\n",
              "      <td>Seventeen_data.txt</td>\n",
              "      <td>/content/test/Seventeen_data.txt</td>\n",
              "      <td>hh{{Персона}}\\n'''Абид''' (род. ок. 1590г; раб...</td>\n",
              "    </tr>\n",
              "    <tr>\n",
              "      <th>2</th>\n",
              "      <td>Eighteen_data.txt</td>\n",
              "      <td>/content/test/Eighteen_data.txt</td>\n",
              "      <td>hh{{однофамильцы|Абильгор}}\\n{{Художник\\n |имя...</td>\n",
              "    </tr>\n",
              "    <tr>\n",
              "      <th>3</th>\n",
              "      <td>Twenty_data.txt</td>\n",
              "      <td>/content/test/Twenty_data.txt</td>\n",
              "      <td>hh{{Художник\\n |имя                  = Вильмош...</td>\n",
              "    </tr>\n",
              "  </tbody>\n",
              "</table>\n",
              "</div>"
            ],
            "text/plain": [
              "                title  ...                                         paragraphs\n",
              "0   Nineteen_data.txt  ...  hh{{Государственный деятель\\n |имя            ...\n",
              "1  Seventeen_data.txt  ...  hh{{Персона}}\\n'''Абид''' (род. ок. 1590г; раб...\n",
              "2   Eighteen_data.txt  ...  hh{{однофамильцы|Абильгор}}\\n{{Художник\\n |имя...\n",
              "3     Twenty_data.txt  ...  hh{{Художник\\n |имя                  = Вильмош...\n",
              "\n",
              "[4 rows x 3 columns]"
            ]
          },
          "metadata": {
            "tags": []
          },
          "execution_count": 7
        }
      ]
    },
    {
      "cell_type": "code",
      "metadata": {
        "id": "SDBkjVr58TCy",
        "colab_type": "code",
        "colab": {}
      },
      "source": [
        "files['paragraphs']=files['paragraphs'].apply(lambda x:sent_tokenize(x) )"
      ],
      "execution_count": 0,
      "outputs": []
    },
    {
      "cell_type": "code",
      "metadata": {
        "id": "-IbooXAS8TC5",
        "colab_type": "code",
        "colab": {}
      },
      "source": [
        "files.to_csv('new_dataset.csv')"
      ],
      "execution_count": 0,
      "outputs": []
    },
    {
      "cell_type": "code",
      "metadata": {
        "id": "kdytZeNJ8TC_",
        "colab_type": "code",
        "colab": {}
      },
      "source": [
        "df=pd.read_csv('new_dataset.csv',converters={'paragraphs': literal_eval})"
      ],
      "execution_count": 0,
      "outputs": []
    },
    {
      "cell_type": "code",
      "metadata": {
        "id": "ZdKT47mM8TDF",
        "colab_type": "code",
        "colab": {}
      },
      "source": [
        "new_df=df.head(n=3)"
      ],
      "execution_count": 0,
      "outputs": []
    },
    {
      "cell_type": "code",
      "metadata": {
        "id": "8I8u_h328TDK",
        "colab_type": "code",
        "colab": {
          "base_uri": "https://localhost:8080/",
          "height": 34
        },
        "outputId": "8f78fc61-1b1d-42f5-9512-916f64c19187"
      },
      "source": [
        "#cdqa_pipeline = QAPipeline(reader='C:\\\\Users\\\\Алматы\\\\cdQA\\\\cdqa\\\\reader\\\\bert_qa_vCPU-sklearn.joblib')\n",
        "from cdqa.pipeline import QAPipeline\n",
        "\n",
        "import wget\n",
        "url = \"https://github.com/cdqa-suite/cdQA/releases/download/bert_qa/bert_qa.joblib\"\n",
        "wget.download(url, 'bert_qa.joblib')"
      ],
      "execution_count": 12,
      "outputs": [
        {
          "output_type": "execute_result",
          "data": {
            "text/plain": [
              "'bert_qa.joblib'"
            ]
          },
          "metadata": {
            "tags": []
          },
          "execution_count": 12
        }
      ]
    },
    {
      "cell_type": "code",
      "metadata": {
        "id": "l8Eb5OndCZke",
        "colab_type": "code",
        "colab": {}
      },
      "source": [
        ""
      ],
      "execution_count": 0,
      "outputs": []
    },
    {
      "cell_type": "code",
      "metadata": {
        "id": "3ZqIrTaU8TDP",
        "colab_type": "code",
        "colab": {
          "base_uri": "https://localhost:8080/",
          "height": 323
        },
        "outputId": "304fcc9b-fc9a-440b-af39-def6aebce50b"
      },
      "source": [
        "cdqa_pipeline = QAPipeline(reader='bert_qa.joblib')\n",
        "cdqa_pipeline.fit_retriever(df=df)"
      ],
      "execution_count": 13,
      "outputs": [
        {
          "output_type": "stream",
          "text": [
            "100%|██████████| 231508/231508 [00:00<00:00, 4379405.52B/s]\n"
          ],
          "name": "stderr"
        },
        {
          "output_type": "execute_result",
          "data": {
            "text/plain": [
              "QAPipeline(reader=BertQA(adam_epsilon=1e-08, bert_model='bert-base-uncased',\n",
              "                         do_lower_case=True, fp16=False,\n",
              "                         gradient_accumulation_steps=1, learning_rate=5e-05,\n",
              "                         local_rank=-1, loss_scale=0, max_answer_length=30,\n",
              "                         n_best_size=20, no_cuda=False,\n",
              "                         null_score_diff_threshold=0.0, num_train_epochs=3.0,\n",
              "                         output_dir=None, predict_batch_size=8, seed=42,\n",
              "                         server_ip='', server_po...size=8,\n",
              "                         verbose_logging=False, version_2_with_negative=False,\n",
              "                         warmup_proportion=0.1, warmup_steps=0),\n",
              "           retrieve_by_doc=False,\n",
              "           retriever=BM25Retriever(b=0.75, floor=None, k1=2.0, lowercase=True,\n",
              "                                   max_df=0.85, min_df=2, ngram_range=(1, 2),\n",
              "                                   preprocessor=None, stop_words='english',\n",
              "                                   token_pattern='(?u)\\\\b\\\\w\\\\w+\\\\b',\n",
              "                                   tokenizer=None, top_n=20, verbose=False,\n",
              "                                   vocabulary=None))"
            ]
          },
          "metadata": {
            "tags": []
          },
          "execution_count": 13
        }
      ]
    },
    {
      "cell_type": "code",
      "metadata": {
        "id": "3r4LONoc8TDY",
        "colab_type": "code",
        "colab": {}
      },
      "source": [
        "query = 'В каком году родился Иван Шаповалов?'\n",
        "prediction = cdqa_pipeline.predict(query)"
      ],
      "execution_count": 0,
      "outputs": []
    },
    {
      "cell_type": "code",
      "metadata": {
        "id": "e0nW-vta8TDd",
        "colab_type": "code",
        "colab": {
          "base_uri": "https://localhost:8080/",
          "height": 105
        },
        "outputId": "14c5b71a-1cfa-4128-8e20-62a45722fac7"
      },
      "source": [
        "prediction"
      ],
      "execution_count": 24,
      "outputs": [
        {
          "output_type": "execute_result",
          "data": {
            "text/plain": [
              "('в 1817',\n",
              " 'Nineteen_data.txt',\n",
              " '==Биография==\\n\\nИван Шаповалов родился в 1817 году в семье крепостного крестьянина села Николаевки, [[Кременчугский уезд|Кременчугского уезда]], [[Полтавская губерния|Полтавской губернии]].',\n",
              " 5.053192349440856)"
            ]
          },
          "metadata": {
            "tags": []
          },
          "execution_count": 24
        }
      ]
    },
    {
      "cell_type": "code",
      "metadata": {
        "id": "LS7PI8l18TDh",
        "colab_type": "code",
        "colab": {
          "base_uri": "https://localhost:8080/",
          "height": 207
        },
        "outputId": "b3561920-dd83-4ee6-fef6-d71f9054aefe"
      },
      "source": [
        "print('query: {}\\n'.format(query))\n",
        "print('answer: {}\\n'.format(prediction[0]))\n",
        "print('title: {}\\n'.format(prediction[1]))\n",
        "print('paragraph: {}\\n'.format(prediction[2]))"
      ],
      "execution_count": 25,
      "outputs": [
        {
          "output_type": "stream",
          "text": [
            "query: В каком году родился Иван Шаповалов?\n",
            "\n",
            "answer: в 1817\n",
            "\n",
            "title: Nineteen_data.txt\n",
            "\n",
            "paragraph: ==Биография==\n",
            "\n",
            "Иван Шаповалов родился в 1817 году в семье крепостного крестьянина села Николаевки, [[Кременчугский уезд|Кременчугского уезда]], [[Полтавская губерния|Полтавской губернии]].\n",
            "\n"
          ],
          "name": "stdout"
        }
      ]
    },
    {
      "cell_type": "code",
      "metadata": {
        "id": "SJ-E3UPCF6XS",
        "colab_type": "code",
        "colab": {
          "base_uri": "https://localhost:8080/",
          "height": 85
        },
        "outputId": "e65e93a8-a6d1-4bba-8070-53a81774ba51"
      },
      "source": [
        "query = 'Саврасов учился в?'\n",
        "prediction = cdqa_pipeline.predict(query)\n",
        "prediction"
      ],
      "execution_count": 65,
      "outputs": [
        {
          "output_type": "execute_result",
          "data": {
            "text/plain": [
              "('Алексей Кондратьевич',\n",
              " 'Nineteen_data.txt',\n",
              " 'М.\\xa0Прянишникова]], [[Саврасов, Алексей Кондратьевич|А.',\n",
              " 0.7530701209073714)"
            ]
          },
          "metadata": {
            "tags": []
          },
          "execution_count": 65
        }
      ]
    },
    {
      "cell_type": "code",
      "metadata": {
        "id": "SR6O9gJUF6j6",
        "colab_type": "code",
        "colab": {
          "base_uri": "https://localhost:8080/",
          "height": 153
        },
        "outputId": "59b9b6da-e09c-4ca5-ad61-1e2fdb124e2a"
      },
      "source": [
        "print('query: {}\\n'.format(query))\n",
        "print('answer: {}\\n'.format(prediction[0]))\n",
        "print('title: {}\\n'.format(prediction[1]))\n",
        "print('paragraph: {}\\n'.format(prediction[2]))"
      ],
      "execution_count": 66,
      "outputs": [
        {
          "output_type": "stream",
          "text": [
            "query: Саврасов учился в?\n",
            "\n",
            "answer: Алексей Кондратьевич\n",
            "\n",
            "title: Nineteen_data.txt\n",
            "\n",
            "paragraph: М. Прянишникова]], [[Саврасов, Алексей Кондратьевич|А.\n",
            "\n"
          ],
          "name": "stdout"
        }
      ]
    },
    {
      "cell_type": "code",
      "metadata": {
        "id": "44lf09uHF6rW",
        "colab_type": "code",
        "colab": {}
      },
      "source": [
        ""
      ],
      "execution_count": 0,
      "outputs": []
    },
    {
      "cell_type": "code",
      "metadata": {
        "id": "4YyOD-OXF6nm",
        "colab_type": "code",
        "colab": {}
      },
      "source": [
        ""
      ],
      "execution_count": 0,
      "outputs": []
    }
  ]
}