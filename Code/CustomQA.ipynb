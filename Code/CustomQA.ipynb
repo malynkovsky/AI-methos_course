{
  "nbformat": 4,
  "nbformat_minor": 0,
  "metadata": {
    "kernelspec": {
      "display_name": "Python 3",
      "language": "python",
      "name": "python3"
    },
    "language_info": {
      "codemirror_mode": {
        "name": "ipython",
        "version": 3
      },
      "file_extension": ".py",
      "mimetype": "text/x-python",
      "name": "python",
      "nbconvert_exporter": "python",
      "pygments_lexer": "ipython3",
      "version": "3.7.3"
    },
    "colab": {
      "name": "RussianCDQA (2).ipynb",
      "provenance": [],
      "collapsed_sections": [],
      "machine_shape": "hm"
    }
  },
  "cells": [
    {
      "cell_type": "code",
      "metadata": {
        "id": "swtaEs598qb6"
      },
      "source": [
        "pip install cdqa\n",
        "pip install googletrans"
      ],
      "execution_count": null,
      "outputs": []
    },
    {
      "cell_type": "code",
      "metadata": {
        "scrolled": true,
        "id": "cZW_SR2L8TCG",
        "outputId": "9c608bdc-b2de-44c5-d6c4-0e4e3c821f53",
        "colab": {
          "base_uri": "https://localhost:8080/",
          "height": 71
        }
      },
      "source": [
        "import pandas as pd\n",
        "from ast import literal_eval\n",
        "\n",
        "from cdqa.utils.filters import filter_paragraphs\n",
        "from cdqa.utils.download import download_model, download_bnpp_data\n",
        "from cdqa.pipeline.cdqa_sklearn import QAPipeline\n"
      ],
      "execution_count": null,
      "outputs": [
        {
          "output_type": "stream",
          "text": [
            "/usr/local/lib/python3.6/dist-packages/tqdm/autonotebook/__init__.py:18: TqdmExperimentalWarning: Using `tqdm.autonotebook.tqdm` in notebook mode. Use `tqdm.tqdm` instead to force console mode (e.g. in jupyter console)\n",
            "  \" (e.g. in jupyter console)\", TqdmExperimentalWarning)\n"
          ],
          "name": "stderr"
        }
      ]
    },
    {
      "cell_type": "code",
      "metadata": {
        "id": "oy16-bLr-H53",
        "outputId": "3f45d968-f4d2-4052-8432-e14193101282",
        "colab": {
          "base_uri": "https://localhost:8080/",
          "height": 68
        }
      },
      "source": [
        "from nltk import sent_tokenize, word_tokenize\n",
        "basedir = '/content/test'\n",
        "import os\n",
        "import nltk\n",
        "nltk.download('punkt')"
      ],
      "execution_count": null,
      "outputs": [
        {
          "output_type": "stream",
          "text": [
            "[nltk_data] Downloading package punkt to /root/nltk_data...\n",
            "[nltk_data]   Package punkt is already up-to-date!\n"
          ],
          "name": "stdout"
        },
        {
          "output_type": "execute_result",
          "data": {
            "text/plain": [
              "True"
            ]
          },
          "metadata": {
            "tags": []
          },
          "execution_count": 5
        }
      ]
    },
    {
      "cell_type": "code",
      "metadata": {
        "id": "C9-VeL7j8TCn"
      },
      "source": [
        "files=pd.DataFrame()\n",
        "files['title'] = os.listdir(basedir)\n",
        "files['paths']=' '\n",
        "files['paths'] = [os.path.join(basedir, name) for name in files['title']]\n",
        "files['paragraphs']=' '\n",
        "files['paragraphs']=[open((i), 'r', encoding=\"utf8\", errors='ignore').read().strip() for i in files['paths'] ]\n",
        "files.head()"
      ],
      "execution_count": null,
      "outputs": []
    },
    {
      "cell_type": "code",
      "metadata": {
        "id": "SDBkjVr58TCy"
      },
      "source": [
        "files['paragraphs']=files['paragraphs'].apply(lambda x:sent_tokenize(x) )\n",
        "files.to_csv('new_dataset.csv')"
      ],
      "execution_count": null,
      "outputs": []
    },
    {
      "cell_type": "code",
      "metadata": {
        "id": "kdytZeNJ8TC_"
      },
      "source": [
        "df=pd.read_csv('new_dataset.csv',converters={'paragraphs': literal_eval})\n",
        "new_df=df.head(n=3)"
      ],
      "execution_count": null,
      "outputs": []
    },
    {
      "cell_type": "code",
      "metadata": {
        "id": "8I8u_h328TDK",
        "outputId": "20ca52c7-1d5a-4d7a-c9f2-00ce46fa9d76",
        "colab": {
          "base_uri": "https://localhost:8080/",
          "height": 34
        }
      },
      "source": [
        "from cdqa.pipeline import QAPipeline\n",
        "import wget\n",
        "url = \"https://github.com/cdqa-suite/cdQA/releases/download/bert_qa/bert_qa.joblib\"\n",
        "wget.download(url, 'bert_qa.joblib')"
      ],
      "execution_count": null,
      "outputs": [
        {
          "output_type": "execute_result",
          "data": {
            "text/plain": [
              "'bert_qa (2).joblib'"
            ]
          },
          "metadata": {
            "tags": []
          },
          "execution_count": 123
        }
      ]
    },
    {
      "cell_type": "code",
      "metadata": {
        "id": "3ZqIrTaU8TDP",
        "outputId": "6adc4029-889d-432b-9512-6c30977096c4",
        "colab": {
          "base_uri": "https://localhost:8080/",
          "height": 306
        }
      },
      "source": [
        "cdqa_pipeline = QAPipeline(reader='bert_qa.joblib')\n",
        "cdqa_pipeline.fit_retriever(df=df)"
      ],
      "execution_count": null,
      "outputs": [
        {
          "output_type": "execute_result",
          "data": {
            "text/plain": [
              "QAPipeline(reader=BertQA(adam_epsilon=1e-08, bert_model='bert-base-uncased',\n",
              "                         do_lower_case=True, fp16=False,\n",
              "                         gradient_accumulation_steps=1, learning_rate=5e-05,\n",
              "                         local_rank=-1, loss_scale=0, max_answer_length=30,\n",
              "                         n_best_size=20, no_cuda=False,\n",
              "                         null_score_diff_threshold=0.0, num_train_epochs=3.0,\n",
              "                         output_dir=None, predict_batch_size=8, seed=42,\n",
              "                         server_ip='', server_po...size=8,\n",
              "                         verbose_logging=False, version_2_with_negative=False,\n",
              "                         warmup_proportion=0.1, warmup_steps=0),\n",
              "           retrieve_by_doc=False,\n",
              "           retriever=BM25Retriever(b=0.75, floor=None, k1=2.0, lowercase=True,\n",
              "                                   max_df=0.85, min_df=2, ngram_range=(1, 2),\n",
              "                                   preprocessor=None, stop_words='english',\n",
              "                                   token_pattern='(?u)\\\\b\\\\w\\\\w+\\\\b',\n",
              "                                   tokenizer=None, top_n=20, verbose=False,\n",
              "                                   vocabulary=None))"
            ]
          },
          "metadata": {
            "tags": []
          },
          "execution_count": 124
        }
      ]
    },
    {
      "cell_type": "code",
      "metadata": {
        "id": "3r4LONoc8TDY",
        "outputId": "c6f72f1f-9bde-49b7-8508-61f72575225f",
        "colab": {
          "base_uri": "https://localhost:8080/",
          "height": 105
        }
      },
      "source": [
        "query = 'In which Academy Viktor Vasnetsov studied ?'\n",
        "prediction = cdqa_pipeline.predict(query)\n",
        "prediction"
      ],
      "execution_count": null,
      "outputs": [
        {
          "output_type": "execute_result",
          "data": {
            "text/plain": [
              "('Abramtsevo',\n",
              " 'temptext.txt',\n",
              " \"On the Balcony, Spanish Women Leonora and Ampara, 1897–1898\\n\\nPolenov introduced Korovin to Savva Mamontov's Abramtsevo Circle: Viktor Vasnetsov, Apollinary Vasnetsov, Ilya Repin, Mark Antokolsky and others.\",\n",
              " 14.170707575123263)"
            ]
          },
          "metadata": {
            "tags": []
          },
          "execution_count": 207
        }
      ]
    },
    {
      "cell_type": "code",
      "metadata": {
        "id": "LS7PI8l18TDh",
        "outputId": "3977d5a5-fc8b-4103-e4ba-b3ae1ed4b1d6",
        "colab": {
          "base_uri": "https://localhost:8080/",
          "height": 207
        }
      },
      "source": [
        "print('query: {}\\n'.format(query))\n",
        "print('answer: {}\\n'.format(prediction[0]))\n",
        "print('title: {}\\n'.format(prediction[1]))\n",
        "print('paragraph: {}\\n'.format(prediction[2]))"
      ],
      "execution_count": null,
      "outputs": [
        {
          "output_type": "stream",
          "text": [
            "query: In which Academy Viktor Vasnetsov studied ?\n",
            "\n",
            "answer: Abramtsevo\n",
            "\n",
            "title: temptext.txt\n",
            "\n",
            "paragraph: On the Balcony, Spanish Women Leonora and Ampara, 1897–1898\n",
            "\n",
            "Polenov introduced Korovin to Savva Mamontov's Abramtsevo Circle: Viktor Vasnetsov, Apollinary Vasnetsov, Ilya Repin, Mark Antokolsky and others.\n",
            "\n"
          ],
          "name": "stdout"
        }
      ]
    },
    {
      "cell_type": "code",
      "metadata": {
        "id": "4YyOD-OXF6nm",
        "outputId": "d349546b-73ee-4080-e10f-08c53f88e7cb",
        "colab": {
          "base_uri": "https://localhost:8080/",
          "height": 34
        }
      },
      "source": [
        "from googletrans import Translator\n",
        "translator = Translator()\n",
        "#print(translator.translate('В каком году родился Л?', dest='en',src='ru').text)\n",
        "query = translator.translate('Кто рисовал в стиле романтизма ?', dest='en',src='ru').text\n",
        "prediction = cdqa_pipeline.predict(query, n_predictions=5)\n",
        "prediction\n",
        "print(translator.translate(prediction[0][0], dest='ru',src='en').text)"
      ],
      "execution_count": null,
      "outputs": [
        {
          "output_type": "stream",
          "text": [
            "Айвазовский\n"
          ],
          "name": "stdout"
        }
      ]
    },
    {
      "cell_type": "code",
      "metadata": {
        "id": "o7VnDZg1GBjV",
        "outputId": "965c37b8-02d4-4373-c8ef-51ae38dfd91a",
        "colab": {
          "base_uri": "https://localhost:8080/",
          "height": 255
        }
      },
      "source": [
        "flag=True\n",
        "print('Добрый день. Задавайте вопрсы =)')\n",
        "\n",
        "while(flag==True):\n",
        "    i=0\n",
        "    #taking user question\n",
        "    query = input()\n",
        "    #query=query.lower()\n",
        "    \n",
        "    if('Пока' not in query.split(' ')):\n",
        "        if(query=='Спасибо' ):\n",
        "            flag=False\n",
        "            print(\"Пожалуйста\")\n",
        "        else:\n",
        "            query_eng = translator.translate(query, dest='en',src='ru').text\n",
        "            prediction = cdqa_pipeline.predict(query_eng)\n",
        "            print(\"Ответ:\"+translator.translate(prediction[0], dest='ru',src='en').text)\n",
        "\n",
        "                \n",
        "                \n",
        "    elif ('Пока' in query.split(' ')):\n",
        "        flag=False\n",
        "        "
      ],
      "execution_count": null,
      "outputs": [
        {
          "output_type": "stream",
          "text": [
            "Добрый день. Задавайте вопрсы =)\n",
            "Кто такой Иван Шишкин?\n",
            "Ответ:известный пейзажист\n",
            "Когда родился Врубель?\n",
            "Ответ:смертный\n",
            "В каком году родился репин?\n",
            "Ответ:1876\n",
            "Какую награду Репин получил за эскиз «Ангел смерти избивает всех перворожденных египтян» \n",
            "Ответ:В 1863 году он был награжден двумя серебряными медалями первого класса\n",
            "Где учился Суриков?\n",
            "Ответ:Одесская школа рисования\n",
            "В каком году умер Василий Суриков?\n",
            "Ответ:1916\n",
            "Пока\n"
          ],
          "name": "stdout"
        }
      ]
    },
    {
      "cell_type": "code",
      "metadata": {
        "id": "ZDbuEsNpGBoL"
      },
      "source": [
        ""
      ],
      "execution_count": null,
      "outputs": []
    },
    {
      "cell_type": "code",
      "metadata": {
        "id": "ENJ42qOAGBtU"
      },
      "source": [
        ""
      ],
      "execution_count": null,
      "outputs": []
    },
    {
      "cell_type": "code",
      "metadata": {
        "id": "dtAoqAuyGBxV"
      },
      "source": [
        ""
      ],
      "execution_count": null,
      "outputs": []
    },
    {
      "cell_type": "code",
      "metadata": {
        "id": "b7in3ZROGBr-"
      },
      "source": [
        ""
      ],
      "execution_count": null,
      "outputs": []
    },
    {
      "cell_type": "code",
      "metadata": {
        "id": "GDEOw7NHGBm0"
      },
      "source": [
        ""
      ],
      "execution_count": null,
      "outputs": []
    },
    {
      "cell_type": "code",
      "metadata": {
        "id": "cIzcXgbP71EH"
      },
      "source": [
        ""
      ],
      "execution_count": null,
      "outputs": []
    },
    {
      "cell_type": "code",
      "metadata": {
        "id": "rXICVSlq71Ix"
      },
      "source": [
        ""
      ],
      "execution_count": null,
      "outputs": []
    },
    {
      "cell_type": "code",
      "metadata": {
        "id": "qiO9Jc-d71Mp"
      },
      "source": [
        ""
      ],
      "execution_count": null,
      "outputs": []
    },
    {
      "cell_type": "code",
      "metadata": {
        "id": "5A4NxlQ971Q2"
      },
      "source": [
        ""
      ],
      "execution_count": null,
      "outputs": []
    },
    {
      "cell_type": "code",
      "metadata": {
        "id": "Sun2RLaNGBhH",
        "outputId": "0993718b-1001-49fa-b2f7-e208910ae5f2",
        "colab": {
          "base_uri": "https://localhost:8080/",
          "height": 34
        }
      },
      "source": [
        "translator.translate('Какой стиль картин Карл Брюлов ?', dest='en',src='ru').text"
      ],
      "execution_count": null,
      "outputs": [
        {
          "output_type": "execute_result",
          "data": {
            "text/plain": [
              "'What style of paintings by Karl Bryullov?'"
            ]
          },
          "metadata": {
            "tags": []
          },
          "execution_count": 175
        }
      ]
    }
  ]
}